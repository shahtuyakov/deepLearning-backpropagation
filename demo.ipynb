{
 "cells": [
  {
   "cell_type": "markdown",
   "metadata": {},
   "source": [
    "###  MicroGrad demo"
   ]
  },
  {
   "cell_type": "code",
   "execution_count": 8,
   "metadata": {},
   "outputs": [],
   "source": [
    "import random\n",
    "import numpy as np\n",
    "import matplotlib.pyplot as plt\n",
    "import math\n",
    "%matplotlib inline\n"
   ]
  },
  {
   "cell_type": "code",
   "execution_count": 50,
   "metadata": {},
   "outputs": [],
   "source": [
    "def f(x):\n",
    "    return 3*x**2 - 4*x + 5"
   ]
  },
  {
   "cell_type": "code",
   "execution_count": 54,
   "metadata": {},
   "outputs": [
    {
     "data": {
      "text/plain": [
       "20.0"
      ]
     },
     "execution_count": 54,
     "metadata": {},
     "output_type": "execute_result"
    }
   ],
   "source": [
    "f(3.0)"
   ]
  },
  {
   "cell_type": "code",
   "execution_count": 56,
   "metadata": {},
   "outputs": [
    {
     "data": {
      "text/plain": [
       "[<matplotlib.lines.Line2D at 0x151ae7650>]"
      ]
     },
     "execution_count": 56,
     "metadata": {},
     "output_type": "execute_result"
    },
    {
     "data": {
      "image/png": "[encoded data removed]",
      "text/plain": [
       "<Figure size 640x480 with 1 Axes>"
      ]
     },
     "metadata": {},
     "output_type": "display_data"
    }
   ],
   "source": [
    "xs = np.arange(-5, 5, 0.25)\n",
    "ys = f(xs)\n",
    "plt.plot(xs, ys)"
   ]
  },
  {
   "cell_type": "code",
   "execution_count": 62,
   "metadata": {},
   "outputs": [
    {
     "data": {
      "text/plain": [
       "2.999378523327323e-06"
      ]
     },
     "execution_count": 62,
     "metadata": {},
     "output_type": "execute_result"
    }
   ],
   "source": [
    "h = 0.000001\n",
    "x = 2/3\n",
    "(f(x + h) - f(x))/h"
   ]
  },
  {
   "cell_type": "code",
   "execution_count": 64,
   "metadata": {},
   "outputs": [
    {
     "name": "stdout",
     "output_type": "stream",
     "text": [
      "4.0\n"
     ]
    }
   ],
   "source": [
    "#lets get more complex\n",
    "a = 2.0\n",
    "b = -3.0\n",
    "c = 10.0\n",
    "d = a*b + c\n",
    "print(d)"
   ]
  },
  {
   "cell_type": "code",
   "execution_count": 68,
   "metadata": {},
   "outputs": [
    {
     "name": "stdout",
     "output_type": "stream",
     "text": [
      "d1 4.0\n",
      "d2 4.0001\n",
      "slope 0.9999999999976694\n"
     ]
    }
   ],
   "source": [
    "h = 0.0001\n",
    "\n",
    "#inputs\n",
    "a = 2.0\n",
    "b = -3.0\n",
    "c = 10.0\n",
    "\n",
    "\n",
    "d1 = a*b + c\n",
    "c += h\n",
    "d2 = a*b + c\n",
    "\n",
    "print('d1', d1)\n",
    "print('d2', d2)\n",
    "print('slope', (d2 - d1)/h)\n"
   ]
  },
  {
   "cell_type": "code",
   "execution_count": 21,
   "metadata": {},
   "outputs": [],
   "source": [
    "class Value:\n",
    "    def __init__(self, data, _children=(), _op='', label=''):\n",
    "        self.data = data\n",
    "        self.grad = 0.0\n",
    "        self._backward = lambda: None\n",
    "        self._prev = set(_children)\n",
    "        self._op = _op\n",
    "        self.label = label\n",
    "    \n",
    "    def __repr__(self):\n",
    "        return f\"Value(data={self.data})\"\n",
    "    \n",
    "    def __add__(self, other):\n",
    "        other = other if isinstance(other, Value) else Value(other)\n",
    "        out = Value(self.data + other.data, (self, other), '+')\n",
    "\n",
    "        def _backward():\n",
    "            #! importatn\n",
    "            self.grad += 1 * out.grad\n",
    "            other.grad += 1 * out.grad\n",
    "        out._backward = _backward\n",
    "        return out\n",
    "    \n",
    "    \n",
    "    def __mul__(self, other):\n",
    "        other = other if isinstance(other, Value) else Value(other)\n",
    "        out = Value(self.data * other.data, (self, other), '*')\n",
    "\n",
    "        def _backward():\n",
    "            #! importatn\n",
    "            self.grad += other.data * out.grad\n",
    "            other.grad = self.data * out.grad\n",
    "        out._backward = _backward\n",
    "        return out\n",
    "    \n",
    "    def __pow__(self, other):\n",
    "        assert isinstance(other, (int, float)), \"only supporting int/float powers for now\"\n",
    "        out = Value(self.data**other, (self,), f'**{other}')\n",
    "        def _backward():\n",
    "            #! importatn\n",
    "            self.grad += other * (self.data ** (other - 1)) * out.grad\n",
    "        out._backward = _backward\n",
    "        return out\n",
    "\n",
    "    def __rmul__(self, other):\n",
    "        return self * other\n",
    "    \n",
    "    def __truediv__(self, other):\n",
    "        return self * (other**-1)\n",
    "    \n",
    "    def __neg__(self):\n",
    "        return self * -1\n",
    "    \n",
    "    def __sub__(self, other):\n",
    "        return self + (-other)\n",
    "    \n",
    "    def tanh(self):\n",
    "        x = self.data\n",
    "        t = (math.exp(2*x) - 1)/(math.exp(2*x) + 1)\n",
    "        out = Value(t, (self,), 'tanh')\n",
    "\n",
    "        def _backward():\n",
    "            #! importatn\n",
    "            self.grad += (1 - t**2) * out.grad\n",
    "        out._backward = _backward\n",
    "        return out\n",
    "    \n",
    "    def exp(self):\n",
    "        x = self.data\n",
    "        out = Value(math.exp(x), (self, ), 'exp')\n",
    "\n",
    "        def _backward():\n",
    "            #! importatn\n",
    "            self.grad = +out.data * out.grad\n",
    "        out._backward = _backward\n",
    "        return out\n",
    "     \n",
    "    def backward(self):\n",
    "        # maping the from 'o' to 'x1w1' and 'x2w2'  \n",
    "        topo = []\n",
    "        visited = set()\n",
    "        def build_topo(v):\n",
    "            if v not in visited:\n",
    "                visited.add(v)\n",
    "            for child in v._prev:\n",
    "                build_topo(child)\n",
    "            topo.append(v)\n",
    "        build_topo(self)\n",
    "\n",
    "        self.grad = 1.0\n",
    "        for node in reversed(topo):\n",
    "            node._backward()\n",
    "\n",
    "            "
   ]
  },
  {
   "cell_type": "code",
   "execution_count": 302,
   "metadata": {},
   "outputs": [
    {
     "data": {
      "text/plain": [
       "Value(data=3.5)"
      ]
     },
     "execution_count": 302,
     "metadata": {},
     "output_type": "execute_result"
    }
   ],
   "source": []
  },
  {
   "cell_type": "code",
   "execution_count": 22,
   "metadata": {},
   "outputs": [],
   "source": [
    "from graphviz import Digraph\n",
    "\n",
    "def trace(root):\n",
    "    #build a set of all nodes and edges in a graph\n",
    "    nodes, edges = set(), set()\n",
    "    def build(v):\n",
    "        if v not in nodes:\n",
    "            nodes.add(v)\n",
    "            for child in v._prev:\n",
    "                edges.add((child, v))\n",
    "                build(child)\n",
    "    build(root)\n",
    "    return nodes, edges\n",
    "\n",
    "def draw_dot(root):\n",
    "    dot = Digraph(format='svg', graph_attr={'rankdir': 'LR'}) #LR = left to right\n",
    "\n",
    "    nodes, edges = trace(root)\n",
    "    for n in nodes:\n",
    "        uid = str(id(n))\n",
    "        #for any value in the graph, create a rectangular ('record') node for it\n",
    "        dot.node(name = uid, label = \"{%s | data %.4f | grad %.4f}\" % (n.label, n.data, n.grad), shape='record')\n",
    "        if n._op:\n",
    "            #if this value is a result of operation, create an op node for it\n",
    "            dot.node(name = uid + n._op, label = n._op)\n",
    "            #and connect this node to it\n",
    "            dot.edge(uid + n._op, uid)\n",
    "    for n1, n2 in edges:\n",
    "        #connect n1 to the op node n2\n",
    "        dot.edge(str(id(n1)), str(id(n2)) + n2._op)\n",
    "    return dot\n"
   ]
  },
  {
   "cell_type": "code",
   "execution_count": 23,
   "metadata": {},
   "outputs": [
    {
     "ename": "NameError",
     "evalue": "name 'L' is not defined",
     "output_type": "error",
     "traceback": [
      "\u001b[0;31m---------------------------------------------------------------------------\u001b[0m",
      "\u001b[0;31mNameError\u001b[0m                                 Traceback (most recent call last)",
      "Cell \u001b[0;32mIn[23], line 1\u001b[0m\n\u001b[0;32m----> 1\u001b[0m draw_dot(\u001b[43mL\u001b[49m)\n",
      "\u001b[0;31mNameError\u001b[0m: name 'L' is not defined"
     ]
    }
   ],
   "source": [
    "draw_dot(L)"
   ]
  },
  {
   "cell_type": "code",
   "execution_count": 185,
   "metadata": {},
   "outputs": [],
   "source": [
    "a.grad = -2.0 * -3.0\n",
    "b.grad = -2.0 * 2"
   ]
  },
  {
   "cell_type": "code",
   "execution_count": null,
   "metadata": {},
   "outputs": [],
   "source": [
    "# derivative for 'f' and 'd'\n",
    "L = d * f\n",
    "\n",
    "dL/dd = f\n",
    "dL/df = d\n",
    "\n",
    "(f(x + h) - f(x))/h\n",
    "(fx + fh - fx)/h\n",
    "fh/h\n",
    "f\n",
    "\n",
    "# derivative for 'c' and 'e' op '+' is 1\n",
    "d = c + e\n",
    "\n",
    "dd/dc = 1.0\n",
    "dd/de = 1.0\n",
    "\n",
    "Chain rule:\n",
    "\n",
    "want:\n",
    "dL/dc = (dL/dd) * (dd/dc)\n",
    "\n",
    "\n",
    "know:\n",
    "dL/dd\n",
    "dd/dc\n",
    "\n",
    "#! if '+' passes the gradient of sum to childs\n",
    "#! if '*' operation we switch values to each other gradient\n",
    "\n",
    "dL/de = -2.0\n",
    "\n",
    "e = a * b\n",
    "\n",
    "de/da = b\n",
    "de/db = a\n",
    "\n",
    "dL/da = (dL/de) * (de/da)\n",
    "dL/db = (dL/de) * (de/db)\n",
    "\n"
   ]
  },
  {
   "cell_type": "code",
   "execution_count": 11,
   "metadata": {},
   "outputs": [
    {
     "name": "stdout",
     "output_type": "stream",
     "text": [
      "0.0\n"
     ]
    }
   ],
   "source": [
    "def lol():\n",
    "    h = 0.001\n",
    "\n",
    "    a = Value(2, label='a')\n",
    "    b = Value(-3, label='b')\n",
    "    c = Value(10, label='c')\n",
    "    e = a * b; e.label = 'e'\n",
    "    d = e + c; d.label = 'd'\n",
    "    f = Value(-2.0); f.label = 'f'\n",
    "    L = d * f; L.label = 'L'\n",
    "    L1 = L.data\n",
    "\n",
    "    a = Value(2 , label='a')\n",
    "    b = Value(-3, label='b')\n",
    "    c = Value(10, label='c')\n",
    "    e = a * b; e.label = 'e'\n",
    "    # e.data += h\n",
    "    d = e + c; d.label = 'd'\n",
    "    # d.data += h\n",
    "    f = Value(-2.0, label = 'f')\n",
    "    L = d * f; L.label = 'L'\n",
    "    L2 = L.data\n",
    "\n",
    "    print((L2 - L1)/h)\n",
    "\n",
    "lol()"
   ]
  },
  {
   "cell_type": "code",
   "execution_count": 12,
   "metadata": {},
   "outputs": [
    {
     "data": {
      "image/png": "[encoded data removed]",
      "text/plain": [
       "<Figure size 640x480 with 1 Axes>"
      ]
     },
     "metadata": {},
     "output_type": "display_data"
    }
   ],
   "source": [
    "plt.plot(np.arange(-5,5,0.2), np.tanh(np.arange(-5,5,0.2))); plt.grid();"
   ]
  },
  {
   "cell_type": "code",
   "execution_count": 13,
   "metadata": {},
   "outputs": [],
   "source": [
    "#inputs x1 x2\n",
    "x1 = Value(2.0, label='x1')\n",
    "x2 = Value(0.0, label='x2')\n",
    "\n",
    "#input weights w1 w2\n",
    "w1 = Value(-3.0, label='w1')\n",
    "w2 = Value(1.0, label='w2')\n",
    "\n",
    "#bias of the neuron\n",
    "b = Value(6.8813735870195432, label='b')\n",
    "\n",
    "# x1w1 + x2w2 + d neuron formula\n",
    "x1w1 = x1*w1; x1w1.label='x1w1'\n",
    "x2w2 = x2*w2; x2w2.label='x2w2'\n",
    "\n",
    "x1w1x2w2 = x1w1 + x2w2; x1w1x2w2.label='x1w1 + x2w2'\n",
    "n = x1w1x2w2 + b; n.label='n'\n",
    "\n",
    "#output tenh\n",
    "o = n.tanh(); o.label='o'\n",
    "\n",
    "# o.backward()\n",
    "\n"
   ]
  },
  {
   "cell_type": "code",
   "execution_count": 14,
   "metadata": {},
   "outputs": [
    {
     "data": {
      "image/svg+xml": [
       "<?xml version=\"1.0\" encoding=\"UTF-8\" standalone=\"no\"?>\n",
       "<!DOCTYPE svg PUBLIC \"-//W3C//DTD SVG 1.1//EN\"\n",
       " \"http://www.w3.org/Graphics/SVG/1.1/DTD/svg11.dtd\">\n",
       "<!-- Generated by graphviz version 10.0.1 (20240210.2158)\n",
       " -->\n",
       "<!-- Pages: 1 -->\n",
       "<svg width=\"1546pt\" height=\"210pt\"\n",
       " viewBox=\"0.00 0.00 1546.25 210.00\" xmlns=\"http://www.w3.org/2000/svg\" xmlns:xlink=\"http://www.w3.org/1999/xlink\">\n",
       "<g id=\"graph0\" class=\"graph\" transform=\"scale(1 1) rotate(0) translate(4 206)\">\n",
       "<polygon fill=\"white\" stroke=\"none\" points=\"-4,4 -4,-206 1542.25,-206 1542.25,4 -4,4\"/>\n",
       "<!-- 5138177040 -->\n",
       "<g id=\"node1\" class=\"node\">\n",
       "<title>5138177040</title>\n",
       "<polygon fill=\"none\" stroke=\"black\" points=\"1354.5,-109.5 1354.5,-145.5 1538.25,-145.5 1538.25,-109.5 1354.5,-109.5\"/>\n",
       "<text text-anchor=\"middle\" x=\"1365.88\" y=\"-122.7\" font-family=\"Times,serif\" font-size=\"14.00\">o</text>\n",
       "<polyline fill=\"none\" stroke=\"black\" points=\"1377.25,-110 1377.25,-145.5\"/>\n",
       "<text text-anchor=\"middle\" x=\"1417.12\" y=\"-122.7\" font-family=\"Times,serif\" font-size=\"14.00\">data 0.7071</text>\n",
       "<polyline fill=\"none\" stroke=\"black\" points=\"1457,-110 1457,-145.5\"/>\n",
       "<text text-anchor=\"middle\" x=\"1497.62\" y=\"-122.7\" font-family=\"Times,serif\" font-size=\"14.00\">grad 0.0000</text>\n",
       "</g>\n",
       "<!-- 5138177040tanh -->\n",
       "<g id=\"node2\" class=\"node\">\n",
       "<title>5138177040tanh</title>\n",
       "<ellipse fill=\"none\" stroke=\"black\" cx=\"1291.5\" cy=\"-127.5\" rx=\"27\" ry=\"18\"/>\n",
       "<text text-anchor=\"middle\" x=\"1291.5\" y=\"-122.45\" font-family=\"Times,serif\" font-size=\"14.00\">tanh</text>\n",
       "</g>\n",
       "<!-- 5138177040tanh&#45;&gt;5138177040 -->\n",
       "<g id=\"edge1\" class=\"edge\">\n",
       "<title>5138177040tanh&#45;&gt;5138177040</title>\n",
       "<path fill=\"none\" stroke=\"black\" d=\"M1318.78,-127.5C1325.92,-127.5 1334.11,-127.5 1342.82,-127.5\"/>\n",
       "<polygon fill=\"black\" stroke=\"black\" points=\"1342.56,-131 1352.56,-127.5 1342.56,-124 1342.56,-131\"/>\n",
       "</g>\n",
       "<!-- 5136463536 -->\n",
       "<g id=\"node3\" class=\"node\">\n",
       "<title>5136463536</title>\n",
       "<polygon fill=\"none\" stroke=\"black\" points=\"698.25,-137.5 698.25,-173.5 882,-173.5 882,-137.5 698.25,-137.5\"/>\n",
       "<text text-anchor=\"middle\" x=\"709.62\" y=\"-150.7\" font-family=\"Times,serif\" font-size=\"14.00\">b</text>\n",
       "<polyline fill=\"none\" stroke=\"black\" points=\"721,-138 721,-173.5\"/>\n",
       "<text text-anchor=\"middle\" x=\"760.88\" y=\"-150.7\" font-family=\"Times,serif\" font-size=\"14.00\">data 6.8814</text>\n",
       "<polyline fill=\"none\" stroke=\"black\" points=\"800.75,-138 800.75,-173.5\"/>\n",
       "<text text-anchor=\"middle\" x=\"841.38\" y=\"-150.7\" font-family=\"Times,serif\" font-size=\"14.00\">grad 0.0000</text>\n",
       "</g>\n",
       "<!-- 5138176944+ -->\n",
       "<g id=\"node13\" class=\"node\">\n",
       "<title>5138176944+</title>\n",
       "<ellipse fill=\"none\" stroke=\"black\" cx=\"981.75\" cy=\"-127.5\" rx=\"27\" ry=\"18\"/>\n",
       "<text text-anchor=\"middle\" x=\"981.75\" y=\"-122.45\" font-family=\"Times,serif\" font-size=\"14.00\">+</text>\n",
       "</g>\n",
       "<!-- 5136463536&#45;&gt;5138176944+ -->\n",
       "<g id=\"edge9\" class=\"edge\">\n",
       "<title>5136463536&#45;&gt;5138176944+</title>\n",
       "<path fill=\"none\" stroke=\"black\" d=\"M882.33,-142.03C904.17,-138.81 926.27,-135.54 943.98,-132.93\"/>\n",
       "<polygon fill=\"black\" stroke=\"black\" points=\"944.33,-136.42 953.71,-131.49 943.31,-129.49 944.33,-136.42\"/>\n",
       "</g>\n",
       "<!-- 5138175168 -->\n",
       "<g id=\"node4\" class=\"node\">\n",
       "<title>5138175168</title>\n",
       "<polygon fill=\"none\" stroke=\"black\" points=\"326.25,-110.5 326.25,-146.5 533.25,-146.5 533.25,-110.5 326.25,-110.5\"/>\n",
       "<text text-anchor=\"middle\" x=\"349.25\" y=\"-123.7\" font-family=\"Times,serif\" font-size=\"14.00\">x2w2</text>\n",
       "<polyline fill=\"none\" stroke=\"black\" points=\"372.25,-111 372.25,-146.5\"/>\n",
       "<text text-anchor=\"middle\" x=\"412.12\" y=\"-123.7\" font-family=\"Times,serif\" font-size=\"14.00\">data 0.0000</text>\n",
       "<polyline fill=\"none\" stroke=\"black\" points=\"452,-111 452,-146.5\"/>\n",
       "<text text-anchor=\"middle\" x=\"492.62\" y=\"-123.7\" font-family=\"Times,serif\" font-size=\"14.00\">grad 0.0000</text>\n",
       "</g>\n",
       "<!-- 5138171856+ -->\n",
       "<g id=\"node15\" class=\"node\">\n",
       "<title>5138171856+</title>\n",
       "<ellipse fill=\"none\" stroke=\"black\" cx=\"598.5\" cy=\"-100.5\" rx=\"27\" ry=\"18\"/>\n",
       "<text text-anchor=\"middle\" x=\"598.5\" y=\"-95.45\" font-family=\"Times,serif\" font-size=\"14.00\">+</text>\n",
       "</g>\n",
       "<!-- 5138175168&#45;&gt;5138171856+ -->\n",
       "<g id=\"edge10\" class=\"edge\">\n",
       "<title>5138175168&#45;&gt;5138171856+</title>\n",
       "<path fill=\"none\" stroke=\"black\" d=\"M533.51,-111.25C543.16,-109.62 552.45,-108.06 560.82,-106.66\"/>\n",
       "<polygon fill=\"black\" stroke=\"black\" points=\"561.2,-110.15 570.48,-105.04 560.04,-103.24 561.2,-110.15\"/>\n",
       "</g>\n",
       "<!-- 5138175168* -->\n",
       "<g id=\"node5\" class=\"node\">\n",
       "<title>5138175168*</title>\n",
       "<ellipse fill=\"none\" stroke=\"black\" cx=\"261\" cy=\"-128.5\" rx=\"27\" ry=\"18\"/>\n",
       "<text text-anchor=\"middle\" x=\"261\" y=\"-123.45\" font-family=\"Times,serif\" font-size=\"14.00\">*</text>\n",
       "</g>\n",
       "<!-- 5138175168*&#45;&gt;5138175168 -->\n",
       "<g id=\"edge2\" class=\"edge\">\n",
       "<title>5138175168*&#45;&gt;5138175168</title>\n",
       "<path fill=\"none\" stroke=\"black\" d=\"M288.42,-128.5C296.08,-128.5 304.96,-128.5 314.47,-128.5\"/>\n",
       "<polygon fill=\"black\" stroke=\"black\" points=\"314.37,-132 324.37,-128.5 314.37,-125 314.37,-132\"/>\n",
       "</g>\n",
       "<!-- 5137258912 -->\n",
       "<g id=\"node6\" class=\"node\">\n",
       "<title>5137258912</title>\n",
       "<polygon fill=\"none\" stroke=\"black\" points=\"0,-55.5 0,-91.5 198,-91.5 198,-55.5 0,-55.5\"/>\n",
       "<text text-anchor=\"middle\" x=\"16.25\" y=\"-68.7\" font-family=\"Times,serif\" font-size=\"14.00\">w1</text>\n",
       "<polyline fill=\"none\" stroke=\"black\" points=\"32.5,-56 32.5,-91.5\"/>\n",
       "<text text-anchor=\"middle\" x=\"74.62\" y=\"-68.7\" font-family=\"Times,serif\" font-size=\"14.00\">data &#45;3.0000</text>\n",
       "<polyline fill=\"none\" stroke=\"black\" points=\"116.75,-56 116.75,-91.5\"/>\n",
       "<text text-anchor=\"middle\" x=\"157.38\" y=\"-68.7\" font-family=\"Times,serif\" font-size=\"14.00\">grad 0.0000</text>\n",
       "</g>\n",
       "<!-- 5136450864* -->\n",
       "<g id=\"node8\" class=\"node\">\n",
       "<title>5136450864*</title>\n",
       "<ellipse fill=\"none\" stroke=\"black\" cx=\"261\" cy=\"-73.5\" rx=\"27\" ry=\"18\"/>\n",
       "<text text-anchor=\"middle\" x=\"261\" y=\"-68.45\" font-family=\"Times,serif\" font-size=\"14.00\">*</text>\n",
       "</g>\n",
       "<!-- 5137258912&#45;&gt;5136450864* -->\n",
       "<g id=\"edge12\" class=\"edge\">\n",
       "<title>5137258912&#45;&gt;5136450864*</title>\n",
       "<path fill=\"none\" stroke=\"black\" d=\"M198.14,-73.5C206.61,-73.5 214.8,-73.5 222.29,-73.5\"/>\n",
       "<polygon fill=\"black\" stroke=\"black\" points=\"222.29,-77 232.29,-73.5 222.29,-70 222.29,-77\"/>\n",
       "</g>\n",
       "<!-- 5136450864 -->\n",
       "<g id=\"node7\" class=\"node\">\n",
       "<title>5136450864</title>\n",
       "<polygon fill=\"none\" stroke=\"black\" points=\"324,-55.5 324,-91.5 535.5,-91.5 535.5,-55.5 324,-55.5\"/>\n",
       "<text text-anchor=\"middle\" x=\"347\" y=\"-68.7\" font-family=\"Times,serif\" font-size=\"14.00\">x1w1</text>\n",
       "<polyline fill=\"none\" stroke=\"black\" points=\"370,-56 370,-91.5\"/>\n",
       "<text text-anchor=\"middle\" x=\"412.12\" y=\"-68.7\" font-family=\"Times,serif\" font-size=\"14.00\">data &#45;6.0000</text>\n",
       "<polyline fill=\"none\" stroke=\"black\" points=\"454.25,-56 454.25,-91.5\"/>\n",
       "<text text-anchor=\"middle\" x=\"494.88\" y=\"-68.7\" font-family=\"Times,serif\" font-size=\"14.00\">grad 0.0000</text>\n",
       "</g>\n",
       "<!-- 5136450864&#45;&gt;5138171856+ -->\n",
       "<g id=\"edge8\" class=\"edge\">\n",
       "<title>5136450864&#45;&gt;5138171856+</title>\n",
       "<path fill=\"none\" stroke=\"black\" d=\"M535.88,-90.52C544.59,-91.93 552.96,-93.29 560.56,-94.52\"/>\n",
       "<polygon fill=\"black\" stroke=\"black\" points=\"559.91,-97.96 570.34,-96.1 561.03,-91.05 559.91,-97.96\"/>\n",
       "</g>\n",
       "<!-- 5136450864*&#45;&gt;5136450864 -->\n",
       "<g id=\"edge3\" class=\"edge\">\n",
       "<title>5136450864*&#45;&gt;5136450864</title>\n",
       "<path fill=\"none\" stroke=\"black\" d=\"M288.42,-73.5C295.52,-73.5 303.68,-73.5 312.42,-73.5\"/>\n",
       "<polygon fill=\"black\" stroke=\"black\" points=\"312.24,-77 322.24,-73.5 312.24,-70 312.24,-77\"/>\n",
       "</g>\n",
       "<!-- 5136461616 -->\n",
       "<g id=\"node9\" class=\"node\">\n",
       "<title>5136461616</title>\n",
       "<polygon fill=\"none\" stroke=\"black\" points=\"2.25,-165.5 2.25,-201.5 195.75,-201.5 195.75,-165.5 2.25,-165.5\"/>\n",
       "<text text-anchor=\"middle\" x=\"18.5\" y=\"-178.7\" font-family=\"Times,serif\" font-size=\"14.00\">w2</text>\n",
       "<polyline fill=\"none\" stroke=\"black\" points=\"34.75,-166 34.75,-201.5\"/>\n",
       "<text text-anchor=\"middle\" x=\"74.62\" y=\"-178.7\" font-family=\"Times,serif\" font-size=\"14.00\">data 1.0000</text>\n",
       "<polyline fill=\"none\" stroke=\"black\" points=\"114.5,-166 114.5,-201.5\"/>\n",
       "<text text-anchor=\"middle\" x=\"155.12\" y=\"-178.7\" font-family=\"Times,serif\" font-size=\"14.00\">grad 0.0000</text>\n",
       "</g>\n",
       "<!-- 5136461616&#45;&gt;5138175168* -->\n",
       "<g id=\"edge6\" class=\"edge\">\n",
       "<title>5136461616&#45;&gt;5138175168*</title>\n",
       "<path fill=\"none\" stroke=\"black\" d=\"M172.12,-165.01C180.9,-162.35 189.7,-159.5 198,-156.5 208.09,-152.86 218.82,-148.27 228.47,-143.88\"/>\n",
       "<polygon fill=\"black\" stroke=\"black\" points=\"229.86,-147.09 237.45,-139.69 226.9,-140.75 229.86,-147.09\"/>\n",
       "</g>\n",
       "<!-- 5137257808 -->\n",
       "<g id=\"node10\" class=\"node\">\n",
       "<title>5137257808</title>\n",
       "<polygon fill=\"none\" stroke=\"black\" points=\"3.75,-110.5 3.75,-146.5 194.25,-146.5 194.25,-110.5 3.75,-110.5\"/>\n",
       "<text text-anchor=\"middle\" x=\"18.5\" y=\"-123.7\" font-family=\"Times,serif\" font-size=\"14.00\">x2</text>\n",
       "<polyline fill=\"none\" stroke=\"black\" points=\"33.25,-111 33.25,-146.5\"/>\n",
       "<text text-anchor=\"middle\" x=\"73.12\" y=\"-123.7\" font-family=\"Times,serif\" font-size=\"14.00\">data 0.0000</text>\n",
       "<polyline fill=\"none\" stroke=\"black\" points=\"113,-111 113,-146.5\"/>\n",
       "<text text-anchor=\"middle\" x=\"153.62\" y=\"-123.7\" font-family=\"Times,serif\" font-size=\"14.00\">grad 0.0000</text>\n",
       "</g>\n",
       "<!-- 5137257808&#45;&gt;5138175168* -->\n",
       "<g id=\"edge13\" class=\"edge\">\n",
       "<title>5137257808&#45;&gt;5138175168*</title>\n",
       "<path fill=\"none\" stroke=\"black\" d=\"M194.46,-128.5C204.21,-128.5 213.66,-128.5 222.21,-128.5\"/>\n",
       "<polygon fill=\"black\" stroke=\"black\" points=\"222.12,-132 232.12,-128.5 222.12,-125 222.12,-132\"/>\n",
       "</g>\n",
       "<!-- 5137260448 -->\n",
       "<g id=\"node11\" class=\"node\">\n",
       "<title>5137260448</title>\n",
       "<polygon fill=\"none\" stroke=\"black\" points=\"3.75,-0.5 3.75,-36.5 194.25,-36.5 194.25,-0.5 3.75,-0.5\"/>\n",
       "<text text-anchor=\"middle\" x=\"18.5\" y=\"-13.7\" font-family=\"Times,serif\" font-size=\"14.00\">x1</text>\n",
       "<polyline fill=\"none\" stroke=\"black\" points=\"33.25,-1 33.25,-36.5\"/>\n",
       "<text text-anchor=\"middle\" x=\"73.12\" y=\"-13.7\" font-family=\"Times,serif\" font-size=\"14.00\">data 2.0000</text>\n",
       "<polyline fill=\"none\" stroke=\"black\" points=\"113,-1 113,-36.5\"/>\n",
       "<text text-anchor=\"middle\" x=\"153.62\" y=\"-13.7\" font-family=\"Times,serif\" font-size=\"14.00\">grad 0.0000</text>\n",
       "</g>\n",
       "<!-- 5137260448&#45;&gt;5136450864* -->\n",
       "<g id=\"edge11\" class=\"edge\">\n",
       "<title>5137260448&#45;&gt;5136450864*</title>\n",
       "<path fill=\"none\" stroke=\"black\" d=\"M168.91,-36.94C178.74,-39.93 188.67,-43.15 198,-46.5 207.96,-50.07 218.58,-54.47 228.18,-58.68\"/>\n",
       "<polygon fill=\"black\" stroke=\"black\" points=\"226.54,-61.78 237.1,-62.67 229.4,-55.39 226.54,-61.78\"/>\n",
       "</g>\n",
       "<!-- 5138176944 -->\n",
       "<g id=\"node12\" class=\"node\">\n",
       "<title>5138176944</title>\n",
       "<polygon fill=\"none\" stroke=\"black\" points=\"1044.75,-109.5 1044.75,-145.5 1228.5,-145.5 1228.5,-109.5 1044.75,-109.5\"/>\n",
       "<text text-anchor=\"middle\" x=\"1056.12\" y=\"-122.7\" font-family=\"Times,serif\" font-size=\"14.00\">n</text>\n",
       "<polyline fill=\"none\" stroke=\"black\" points=\"1067.5,-110 1067.5,-145.5\"/>\n",
       "<text text-anchor=\"middle\" x=\"1107.38\" y=\"-122.7\" font-family=\"Times,serif\" font-size=\"14.00\">data 0.8814</text>\n",
       "<polyline fill=\"none\" stroke=\"black\" points=\"1147.25,-110 1147.25,-145.5\"/>\n",
       "<text text-anchor=\"middle\" x=\"1187.88\" y=\"-122.7\" font-family=\"Times,serif\" font-size=\"14.00\">grad 0.0000</text>\n",
       "</g>\n",
       "<!-- 5138176944&#45;&gt;5138177040tanh -->\n",
       "<g id=\"edge7\" class=\"edge\">\n",
       "<title>5138176944&#45;&gt;5138177040tanh</title>\n",
       "<path fill=\"none\" stroke=\"black\" d=\"M1228.76,-127.5C1237.14,-127.5 1245.27,-127.5 1252.73,-127.5\"/>\n",
       "<polygon fill=\"black\" stroke=\"black\" points=\"1252.7,-131 1262.7,-127.5 1252.7,-124 1252.7,-131\"/>\n",
       "</g>\n",
       "<!-- 5138176944+&#45;&gt;5138176944 -->\n",
       "<g id=\"edge4\" class=\"edge\">\n",
       "<title>5138176944+&#45;&gt;5138176944</title>\n",
       "<path fill=\"none\" stroke=\"black\" d=\"M1009.03,-127.5C1016.17,-127.5 1024.36,-127.5 1033.07,-127.5\"/>\n",
       "<polygon fill=\"black\" stroke=\"black\" points=\"1032.81,-131 1042.81,-127.5 1032.81,-124 1032.81,-131\"/>\n",
       "</g>\n",
       "<!-- 5138171856 -->\n",
       "<g id=\"node14\" class=\"node\">\n",
       "<title>5138171856</title>\n",
       "<polygon fill=\"none\" stroke=\"black\" points=\"661.5,-82.5 661.5,-118.5 918.75,-118.5 918.75,-82.5 661.5,-82.5\"/>\n",
       "<text text-anchor=\"middle\" x=\"707.38\" y=\"-95.7\" font-family=\"Times,serif\" font-size=\"14.00\">x1w1 + x2w2</text>\n",
       "<polyline fill=\"none\" stroke=\"black\" points=\"753.25,-83 753.25,-118.5\"/>\n",
       "<text text-anchor=\"middle\" x=\"795.38\" y=\"-95.7\" font-family=\"Times,serif\" font-size=\"14.00\">data &#45;6.0000</text>\n",
       "<polyline fill=\"none\" stroke=\"black\" points=\"837.5,-83 837.5,-118.5\"/>\n",
       "<text text-anchor=\"middle\" x=\"878.12\" y=\"-95.7\" font-family=\"Times,serif\" font-size=\"14.00\">grad 0.0000</text>\n",
       "</g>\n",
       "<!-- 5138171856&#45;&gt;5138176944+ -->\n",
       "<g id=\"edge14\" class=\"edge\">\n",
       "<title>5138171856&#45;&gt;5138176944+</title>\n",
       "<path fill=\"none\" stroke=\"black\" d=\"M919.18,-118.73C927.81,-119.96 936.02,-121.13 943.46,-122.19\"/>\n",
       "<polygon fill=\"black\" stroke=\"black\" points=\"942.96,-125.65 953.35,-123.6 943.94,-118.72 942.96,-125.65\"/>\n",
       "</g>\n",
       "<!-- 5138171856+&#45;&gt;5138171856 -->\n",
       "<g id=\"edge5\" class=\"edge\">\n",
       "<title>5138171856+&#45;&gt;5138171856</title>\n",
       "<path fill=\"none\" stroke=\"black\" d=\"M625.87,-100.5C632.88,-100.5 640.96,-100.5 649.7,-100.5\"/>\n",
       "<polygon fill=\"black\" stroke=\"black\" points=\"649.57,-104 659.57,-100.5 649.57,-97 649.57,-104\"/>\n",
       "</g>\n",
       "</g>\n",
       "</svg>\n"
      ],
      "text/plain": [
       "<graphviz.graphs.Digraph at 0x132283860>"
      ]
     },
     "execution_count": 14,
     "metadata": {},
     "output_type": "execute_result"
    }
   ],
   "source": [
    "draw_dot(o)"
   ]
  },
  {
   "cell_type": "code",
   "execution_count": 234,
   "metadata": {},
   "outputs": [],
   "source": [
    "o.grad = 1.0"
   ]
  },
  {
   "cell_type": "code",
   "execution_count": 236,
   "metadata": {},
   "outputs": [],
   "source": [
    "o._backward()"
   ]
  },
  {
   "cell_type": "code",
   "execution_count": 238,
   "metadata": {},
   "outputs": [],
   "source": [
    "n._backward()"
   ]
  },
  {
   "cell_type": "code",
   "execution_count": 240,
   "metadata": {},
   "outputs": [],
   "source": [
    "b._backward()\n",
    "x1w1x2w2._backward()"
   ]
  },
  {
   "cell_type": "code",
   "execution_count": 244,
   "metadata": {},
   "outputs": [],
   "source": [
    "x2w2._backward()\n",
    "x1w1._backward()"
   ]
  },
  {
   "cell_type": "code",
   "execution_count": 266,
   "metadata": {},
   "outputs": [],
   "source": [
    "o.backward()"
   ]
  },
  {
   "cell_type": "code",
   "execution_count": null,
   "metadata": {},
   "outputs": [],
   "source": [
    "# o = tanh(n)\n",
    "# do/dn = 1 - o**2\n",
    "# Manual Backward"
   ]
  },
  {
   "cell_type": "code",
   "execution_count": 204,
   "metadata": {},
   "outputs": [],
   "source": [
    "o.grad = 1.0"
   ]
  },
  {
   "cell_type": "code",
   "execution_count": 206,
   "metadata": {},
   "outputs": [],
   "source": [
    "n.grad = 1 - o.data**2"
   ]
  },
  {
   "cell_type": "code",
   "execution_count": 208,
   "metadata": {},
   "outputs": [],
   "source": [
    "b.grad = 0.5\n",
    "x1w1x2w2.grad = 0.5"
   ]
  },
  {
   "cell_type": "code",
   "execution_count": 210,
   "metadata": {},
   "outputs": [],
   "source": [
    "x1w1.grad = 0.5\n",
    "x2w2.grad = 0.5"
   ]
  },
  {
   "cell_type": "code",
   "execution_count": 219,
   "metadata": {},
   "outputs": [],
   "source": [
    "x1.grad = w1.data * x1w1.grad\n",
    "w1.grad = x1.data * x1w1.grad"
   ]
  },
  {
   "cell_type": "code",
   "execution_count": 217,
   "metadata": {},
   "outputs": [],
   "source": [
    "x2.grad = w2.data * x2w2.grad\n",
    "w2.grad = x2.data * x2w2.grad"
   ]
  },
  {
   "cell_type": "code",
   "execution_count": 279,
   "metadata": {},
   "outputs": [
    {
     "data": {
      "image/svg+xml": [
       "<?xml version=\"1.0\" encoding=\"UTF-8\" standalone=\"no\"?>\n",
       "<!DOCTYPE svg PUBLIC \"-//W3C//DTD SVG 1.1//EN\"\n",
       " \"http://www.w3.org/Graphics/SVG/1.1/DTD/svg11.dtd\">\n",
       "<!-- Generated by graphviz version 10.0.1 (20240210.2158)\n",
       " -->\n",
       "<!-- Pages: 1 -->\n",
       "<svg width=\"507pt\" height=\"45pt\"\n",
       " viewBox=\"0.00 0.00 506.75 45.00\" xmlns=\"http://www.w3.org/2000/svg\" xmlns:xlink=\"http://www.w3.org/1999/xlink\">\n",
       "<g id=\"graph0\" class=\"graph\" transform=\"scale(1 1) rotate(0) translate(4 41)\">\n",
       "<polygon fill=\"white\" stroke=\"none\" points=\"-4,4 -4,-41 502.75,-41 502.75,4 -4,4\"/>\n",
       "<!-- 6063166224 -->\n",
       "<g id=\"node1\" class=\"node\">\n",
       "<title>6063166224</title>\n",
       "<polygon fill=\"none\" stroke=\"black\" points=\"0,-0.5 0,-36.5 187.5,-36.5 187.5,-0.5 0,-0.5\"/>\n",
       "<text text-anchor=\"middle\" x=\"11\" y=\"-13.7\" font-family=\"Times,serif\" font-size=\"14.00\">a</text>\n",
       "<polyline fill=\"none\" stroke=\"black\" points=\"22,-1 22,-36.5\"/>\n",
       "<text text-anchor=\"middle\" x=\"64.12\" y=\"-13.7\" font-family=\"Times,serif\" font-size=\"14.00\">data &#45;3.0000</text>\n",
       "<polyline fill=\"none\" stroke=\"black\" points=\"106.25,-1 106.25,-36.5\"/>\n",
       "<text text-anchor=\"middle\" x=\"146.88\" y=\"-13.7\" font-family=\"Times,serif\" font-size=\"14.00\">grad 2.0000</text>\n",
       "</g>\n",
       "<!-- 6069597536+ -->\n",
       "<g id=\"node3\" class=\"node\">\n",
       "<title>6069597536+</title>\n",
       "<ellipse fill=\"none\" stroke=\"black\" cx=\"250.5\" cy=\"-18.5\" rx=\"27\" ry=\"18\"/>\n",
       "<text text-anchor=\"middle\" x=\"250.5\" y=\"-13.45\" font-family=\"Times,serif\" font-size=\"14.00\">+</text>\n",
       "</g>\n",
       "<!-- 6063166224&#45;&gt;6069597536+ -->\n",
       "<g id=\"edge2\" class=\"edge\">\n",
       "<title>6063166224&#45;&gt;6069597536+</title>\n",
       "<path fill=\"none\" stroke=\"black\" d=\"M187.89,-18.5C196.2,-18.5 204.24,-18.5 211.64,-18.5\"/>\n",
       "<polygon fill=\"black\" stroke=\"black\" points=\"211.5,-22 221.5,-18.5 211.5,-15 211.5,-22\"/>\n",
       "</g>\n",
       "<!-- 6069597536 -->\n",
       "<g id=\"node2\" class=\"node\">\n",
       "<title>6069597536</title>\n",
       "<polygon fill=\"none\" stroke=\"black\" points=\"313.5,-0.5 313.5,-36.5 498.75,-36.5 498.75,-0.5 313.5,-0.5\"/>\n",
       "<text text-anchor=\"middle\" x=\"323.38\" y=\"-13.7\" font-family=\"Times,serif\" font-size=\"14.00\"> </text>\n",
       "<polyline fill=\"none\" stroke=\"black\" points=\"333.25,-1 333.25,-36.5\"/>\n",
       "<text text-anchor=\"middle\" x=\"375.38\" y=\"-13.7\" font-family=\"Times,serif\" font-size=\"14.00\">data &#45;6.0000</text>\n",
       "<polyline fill=\"none\" stroke=\"black\" points=\"417.5,-1 417.5,-36.5\"/>\n",
       "<text text-anchor=\"middle\" x=\"458.12\" y=\"-13.7\" font-family=\"Times,serif\" font-size=\"14.00\">grad 1.0000</text>\n",
       "</g>\n",
       "<!-- 6069597536+&#45;&gt;6069597536 -->\n",
       "<g id=\"edge1\" class=\"edge\">\n",
       "<title>6069597536+&#45;&gt;6069597536</title>\n",
       "<path fill=\"none\" stroke=\"black\" d=\"M277.91,-18.5C284.95,-18.5 293,-18.5 301.55,-18.5\"/>\n",
       "<polygon fill=\"black\" stroke=\"black\" points=\"301.54,-22 311.54,-18.5 301.54,-15 301.54,-22\"/>\n",
       "</g>\n",
       "</g>\n",
       "</svg>\n"
      ],
      "text/plain": [
       "<graphviz.graphs.Digraph at 0x169c6b620>"
      ]
     },
     "execution_count": 279,
     "metadata": {},
     "output_type": "execute_result"
    }
   ],
   "source": [
    "#bugs for the Backward funstion (wrong grad) overwriting gradience\n",
    "\n",
    "a = Value(-3.0, label='a')\n",
    "b = a + a\n",
    "\n",
    "b.backward()\n",
    "draw_dot(b)"
   ]
  },
  {
   "cell_type": "code",
   "execution_count": 278,
   "metadata": {},
   "outputs": [
    {
     "data": {
      "image/svg+xml": [
       "<?xml version=\"1.0\" encoding=\"UTF-8\" standalone=\"no\"?>\n",
       "<!DOCTYPE svg PUBLIC \"-//W3C//DTD SVG 1.1//EN\"\n",
       " \"http://www.w3.org/Graphics/SVG/1.1/DTD/svg11.dtd\">\n",
       "<!-- Generated by graphviz version 10.0.1 (20240210.2158)\n",
       " -->\n",
       "<!-- Pages: 1 -->\n",
       "<svg width=\"823pt\" height=\"100pt\"\n",
       " viewBox=\"0.00 0.00 822.50 100.00\" xmlns=\"http://www.w3.org/2000/svg\" xmlns:xlink=\"http://www.w3.org/1999/xlink\">\n",
       "<g id=\"graph0\" class=\"graph\" transform=\"scale(1 1) rotate(0) translate(4 96)\">\n",
       "<polygon fill=\"white\" stroke=\"none\" points=\"-4,4 -4,-96 818.5,-96 818.5,4 -4,4\"/>\n",
       "<!-- 6069908640 -->\n",
       "<g id=\"node1\" class=\"node\">\n",
       "<title>6069908640</title>\n",
       "<polygon fill=\"none\" stroke=\"black\" points=\"318,-55.5 318,-91.5 503.25,-91.5 503.25,-55.5 318,-55.5\"/>\n",
       "<text text-anchor=\"middle\" x=\"327.88\" y=\"-68.7\" font-family=\"Times,serif\" font-size=\"14.00\"> </text>\n",
       "<polyline fill=\"none\" stroke=\"black\" points=\"337.75,-56 337.75,-91.5\"/>\n",
       "<text text-anchor=\"middle\" x=\"379.88\" y=\"-68.7\" font-family=\"Times,serif\" font-size=\"14.00\">data &#45;6.0000</text>\n",
       "<polyline fill=\"none\" stroke=\"black\" points=\"422,-56 422,-91.5\"/>\n",
       "<text text-anchor=\"middle\" x=\"462.62\" y=\"-68.7\" font-family=\"Times,serif\" font-size=\"14.00\">grad 1.0000</text>\n",
       "</g>\n",
       "<!-- 6069899232* -->\n",
       "<g id=\"node8\" class=\"node\">\n",
       "<title>6069899232*</title>\n",
       "<ellipse fill=\"none\" stroke=\"black\" cx=\"566.25\" cy=\"-45.5\" rx=\"27\" ry=\"18\"/>\n",
       "<text text-anchor=\"middle\" x=\"566.25\" y=\"-40.45\" font-family=\"Times,serif\" font-size=\"14.00\">*</text>\n",
       "</g>\n",
       "<!-- 6069908640&#45;&gt;6069899232* -->\n",
       "<g id=\"edge5\" class=\"edge\">\n",
       "<title>6069908640&#45;&gt;6069899232*</title>\n",
       "<path fill=\"none\" stroke=\"black\" d=\"M503.65,-56.73C512.39,-55.13 520.86,-53.59 528.58,-52.18\"/>\n",
       "<polygon fill=\"black\" stroke=\"black\" points=\"528.95,-55.67 538.16,-50.44 527.69,-48.79 528.95,-55.67\"/>\n",
       "</g>\n",
       "<!-- 6069908640* -->\n",
       "<g id=\"node2\" class=\"node\">\n",
       "<title>6069908640*</title>\n",
       "<ellipse fill=\"none\" stroke=\"black\" cx=\"255\" cy=\"-73.5\" rx=\"27\" ry=\"18\"/>\n",
       "<text text-anchor=\"middle\" x=\"255\" y=\"-68.45\" font-family=\"Times,serif\" font-size=\"14.00\">*</text>\n",
       "</g>\n",
       "<!-- 6069908640*&#45;&gt;6069908640 -->\n",
       "<g id=\"edge1\" class=\"edge\">\n",
       "<title>6069908640*&#45;&gt;6069908640</title>\n",
       "<path fill=\"none\" stroke=\"black\" d=\"M282.41,-73.5C289.45,-73.5 297.5,-73.5 306.05,-73.5\"/>\n",
       "<polygon fill=\"black\" stroke=\"black\" points=\"306.04,-77 316.04,-73.5 306.04,-70 306.04,-77\"/>\n",
       "</g>\n",
       "<!-- 6069908160 -->\n",
       "<g id=\"node3\" class=\"node\">\n",
       "<title>6069908160</title>\n",
       "<polygon fill=\"none\" stroke=\"black\" points=\"318,-0.5 318,-36.5 503.25,-36.5 503.25,-0.5 318,-0.5\"/>\n",
       "<text text-anchor=\"middle\" x=\"327.88\" y=\"-13.7\" font-family=\"Times,serif\" font-size=\"14.00\"> </text>\n",
       "<polyline fill=\"none\" stroke=\"black\" points=\"337.75,-1 337.75,-36.5\"/>\n",
       "<text text-anchor=\"middle\" x=\"377.62\" y=\"-13.7\" font-family=\"Times,serif\" font-size=\"14.00\">data 1.0000</text>\n",
       "<polyline fill=\"none\" stroke=\"black\" points=\"417.5,-1 417.5,-36.5\"/>\n",
       "<text text-anchor=\"middle\" x=\"460.38\" y=\"-13.7\" font-family=\"Times,serif\" font-size=\"14.00\">grad &#45;6.0000</text>\n",
       "</g>\n",
       "<!-- 6069908160&#45;&gt;6069899232* -->\n",
       "<g id=\"edge7\" class=\"edge\">\n",
       "<title>6069908160&#45;&gt;6069899232*</title>\n",
       "<path fill=\"none\" stroke=\"black\" d=\"M503.65,-34.67C512.39,-36.21 520.86,-37.7 528.58,-39.05\"/>\n",
       "<polygon fill=\"black\" stroke=\"black\" points=\"527.7,-42.45 538.16,-40.74 528.91,-35.56 527.7,-42.45\"/>\n",
       "</g>\n",
       "<!-- 6069908160+ -->\n",
       "<g id=\"node4\" class=\"node\">\n",
       "<title>6069908160+</title>\n",
       "<ellipse fill=\"none\" stroke=\"black\" cx=\"255\" cy=\"-18.5\" rx=\"27\" ry=\"18\"/>\n",
       "<text text-anchor=\"middle\" x=\"255\" y=\"-13.45\" font-family=\"Times,serif\" font-size=\"14.00\">+</text>\n",
       "</g>\n",
       "<!-- 6069908160+&#45;&gt;6069908160 -->\n",
       "<g id=\"edge2\" class=\"edge\">\n",
       "<title>6069908160+&#45;&gt;6069908160</title>\n",
       "<path fill=\"none\" stroke=\"black\" d=\"M282.41,-18.5C289.45,-18.5 297.5,-18.5 306.05,-18.5\"/>\n",
       "<polygon fill=\"black\" stroke=\"black\" points=\"306.04,-22 316.04,-18.5 306.04,-15 306.04,-22\"/>\n",
       "</g>\n",
       "<!-- 6057180912 -->\n",
       "<g id=\"node5\" class=\"node\">\n",
       "<title>6057180912</title>\n",
       "<polygon fill=\"none\" stroke=\"black\" points=\"0,-55.5 0,-91.5 192,-91.5 192,-55.5 0,-55.5\"/>\n",
       "<text text-anchor=\"middle\" x=\"11\" y=\"-68.7\" font-family=\"Times,serif\" font-size=\"14.00\">a</text>\n",
       "<polyline fill=\"none\" stroke=\"black\" points=\"22,-56 22,-91.5\"/>\n",
       "<text text-anchor=\"middle\" x=\"64.12\" y=\"-68.7\" font-family=\"Times,serif\" font-size=\"14.00\">data &#45;2.0000</text>\n",
       "<polyline fill=\"none\" stroke=\"black\" points=\"106.25,-56 106.25,-91.5\"/>\n",
       "<text text-anchor=\"middle\" x=\"149.12\" y=\"-68.7\" font-family=\"Times,serif\" font-size=\"14.00\">grad &#45;3.0000</text>\n",
       "</g>\n",
       "<!-- 6057180912&#45;&gt;6069908640* -->\n",
       "<g id=\"edge4\" class=\"edge\">\n",
       "<title>6057180912&#45;&gt;6069908640*</title>\n",
       "<path fill=\"none\" stroke=\"black\" d=\"M192.4,-73.5C200.73,-73.5 208.79,-73.5 216.18,-73.5\"/>\n",
       "<polygon fill=\"black\" stroke=\"black\" points=\"216.05,-77 226.05,-73.5 216.05,-70 216.05,-77\"/>\n",
       "</g>\n",
       "<!-- 6057180912&#45;&gt;6069908160+ -->\n",
       "<g id=\"edge8\" class=\"edge\">\n",
       "<title>6057180912&#45;&gt;6069908160+</title>\n",
       "<path fill=\"none\" stroke=\"black\" d=\"M166.39,-55.06C175.08,-52.38 183.79,-49.5 192,-46.5 201.99,-42.85 212.63,-38.3 222.22,-33.93\"/>\n",
       "<polygon fill=\"black\" stroke=\"black\" points=\"223.55,-37.17 231.15,-29.78 220.6,-30.83 223.55,-37.17\"/>\n",
       "</g>\n",
       "<!-- 6057169824 -->\n",
       "<g id=\"node6\" class=\"node\">\n",
       "<title>6057169824</title>\n",
       "<polygon fill=\"none\" stroke=\"black\" points=\"1.88,-0.5 1.88,-36.5 190.12,-36.5 190.12,-0.5 1.88,-0.5\"/>\n",
       "<text text-anchor=\"middle\" x=\"13.25\" y=\"-13.7\" font-family=\"Times,serif\" font-size=\"14.00\">b</text>\n",
       "<polyline fill=\"none\" stroke=\"black\" points=\"24.62,-1 24.62,-36.5\"/>\n",
       "<text text-anchor=\"middle\" x=\"64.5\" y=\"-13.7\" font-family=\"Times,serif\" font-size=\"14.00\">data 3.0000</text>\n",
       "<polyline fill=\"none\" stroke=\"black\" points=\"104.38,-1 104.38,-36.5\"/>\n",
       "<text text-anchor=\"middle\" x=\"147.25\" y=\"-13.7\" font-family=\"Times,serif\" font-size=\"14.00\">grad &#45;8.0000</text>\n",
       "</g>\n",
       "<!-- 6057169824&#45;&gt;6069908640* -->\n",
       "<g id=\"edge6\" class=\"edge\">\n",
       "<title>6057169824&#45;&gt;6069908640*</title>\n",
       "<path fill=\"none\" stroke=\"black\" d=\"M163.53,-36.96C173.14,-39.96 182.87,-43.18 192,-46.5 201.86,-50.08 212.39,-54.46 221.92,-58.63\"/>\n",
       "<polygon fill=\"black\" stroke=\"black\" points=\"220.23,-61.71 230.79,-62.59 223.09,-55.32 220.23,-61.71\"/>\n",
       "</g>\n",
       "<!-- 6057169824&#45;&gt;6069908160+ -->\n",
       "<g id=\"edge9\" class=\"edge\">\n",
       "<title>6057169824&#45;&gt;6069908160+</title>\n",
       "<path fill=\"none\" stroke=\"black\" d=\"M190.59,-18.5C199.58,-18.5 208.29,-18.5 216.23,-18.5\"/>\n",
       "<polygon fill=\"black\" stroke=\"black\" points=\"216.11,-22 226.11,-18.5 216.11,-15 216.11,-22\"/>\n",
       "</g>\n",
       "<!-- 6069899232 -->\n",
       "<g id=\"node7\" class=\"node\">\n",
       "<title>6069899232</title>\n",
       "<polygon fill=\"none\" stroke=\"black\" points=\"629.25,-27.5 629.25,-63.5 814.5,-63.5 814.5,-27.5 629.25,-27.5\"/>\n",
       "<text text-anchor=\"middle\" x=\"639.12\" y=\"-40.7\" font-family=\"Times,serif\" font-size=\"14.00\"> </text>\n",
       "<polyline fill=\"none\" stroke=\"black\" points=\"649,-28 649,-63.5\"/>\n",
       "<text text-anchor=\"middle\" x=\"691.12\" y=\"-40.7\" font-family=\"Times,serif\" font-size=\"14.00\">data &#45;6.0000</text>\n",
       "<polyline fill=\"none\" stroke=\"black\" points=\"733.25,-28 733.25,-63.5\"/>\n",
       "<text text-anchor=\"middle\" x=\"773.88\" y=\"-40.7\" font-family=\"Times,serif\" font-size=\"14.00\">grad 1.0000</text>\n",
       "</g>\n",
       "<!-- 6069899232*&#45;&gt;6069899232 -->\n",
       "<g id=\"edge3\" class=\"edge\">\n",
       "<title>6069899232*&#45;&gt;6069899232</title>\n",
       "<path fill=\"none\" stroke=\"black\" d=\"M593.66,-45.5C600.7,-45.5 608.75,-45.5 617.3,-45.5\"/>\n",
       "<polygon fill=\"black\" stroke=\"black\" points=\"617.29,-49 627.29,-45.5 617.29,-42 617.29,-49\"/>\n",
       "</g>\n",
       "</g>\n",
       "</svg>\n"
      ],
      "text/plain": [
       "<graphviz.graphs.Digraph at 0x169cb54f0>"
      ]
     },
     "execution_count": 278,
     "metadata": {},
     "output_type": "execute_result"
    }
   ],
   "source": [
    "#bugs for the Backward funstion overwriting gradience\n",
    "a = Value(-2.0, label='a')\n",
    "b = Value(3.0, label='b')\n",
    "d = a * b\n",
    "e = a + b\n",
    "f = d * e\n",
    "\n",
    "f.backward()\n",
    "draw_dot(f)"
   ]
  },
  {
   "cell_type": "code",
   "execution_count": 437,
   "metadata": {},
   "outputs": [],
   "source": [
    "#inputs x1 x2\n",
    "x1 = Value(2.0, label='x1')\n",
    "x2 = Value(0.0, label='x2')\n",
    "\n",
    "#input weights w1 w2\n",
    "w1 = Value(-3.0, label='w1')\n",
    "w2 = Value(1.0, label='w2')\n",
    "\n",
    "#bias of the neuron\n",
    "b = Value(6.8813735870195432, label='b')\n",
    "\n",
    "# x1w1 + x2w2 + d neuron formula\n",
    "x1w1 = x1*w1; x1w1.label='x1w1'\n",
    "x2w2 = x2*w2; x2w2.label='x2w2'\n",
    "x1w1x2w2 = x1w1 + x2w2; x1w1x2w2.label='x1w1 + x2w2'\n",
    "n = x1w1x2w2 + b; n.label='n'\n",
    "\n",
    "# --------- \n",
    "e = (2*n).exp()\n",
    "# o = (e - 1) / (e + 1)\n",
    "# -------------------------\n",
    "\n",
    "#output tenh\n",
    "# o = n.tanh(); \n",
    "# o.label='o'\n",
    "\n",
    "# o.backward()\n",
    "# draw_dot(o)\n",
    "\n"
   ]
  },
  {
   "cell_type": "code",
   "execution_count": 16,
   "metadata": {},
   "outputs": [],
   "source": [
    "import torch"
   ]
  },
  {
   "cell_type": "code",
   "execution_count": 17,
   "metadata": {},
   "outputs": [
    {
     "name": "stdout",
     "output_type": "stream",
     "text": [
      "0.7071066904050358\n",
      "------\n",
      "x2 0.5000001283844369\n",
      "w2 0.0\n",
      "x1 -1.5000003851533106\n",
      "w1 1.0000002567688737\n"
     ]
    }
   ],
   "source": [
    "x1 = torch.Tensor([2.0]).double(); x1.requires_grad = True\n",
    "x2 = torch.Tensor([0.0]).double(); x2.requires_grad = True\n",
    "w1 = torch.Tensor([-3.0]).double(); w1.requires_grad = True\n",
    "w2 = torch.Tensor([1.0]).double(); w2.requires_grad = True\n",
    "b = torch.Tensor([6.8813735870195432]).double(); b.requires_grad = True\n",
    "n = x1*w1 + x2*w2 + b\n",
    "o = torch.tanh(n)\n",
    "\n",
    "\n",
    "print(o.data.item())\n",
    "o.backward()\n",
    "\n",
    "print('------')\n",
    "print('x2', x2.grad.item())\n",
    "print('w2', w2.grad.item())\n",
    "print('x1', x1.grad.item())\n",
    "print('w1', w1.grad.item())\n"
   ]
  },
  {
   "cell_type": "code",
   "execution_count": 18,
   "metadata": {},
   "outputs": [
    {
     "data": {
      "text/plain": [
       "Value(data=-0.3349112674989521)"
      ]
     },
     "execution_count": 18,
     "metadata": {},
     "output_type": "execute_result"
    }
   ],
   "source": [
    "from typing import Any\n",
    "\n",
    "\n",
    "class Neuron:\n",
    "    \n",
    "    def __init__(self, nin):\n",
    "        self.w = [Value(random.uniform(-1, 1)) for _ in range(nin)]\n",
    "        self.b = Value(random.uniform(-1, 1))\n",
    "\n",
    "    def __call__(self, x):\n",
    "        # w * x + b\n",
    "        # print(list(zip(self.w, x)))\n",
    "        act = sum((wi*xi for wi, xi in zip(self.w, x)), self.b)\n",
    "        out = act.tanh()\n",
    "        return out\n",
    "    \n",
    "class Layer:\n",
    "    # nin - demetionality nout - number of neurons\n",
    "    def __init__(self, nin, nout):\n",
    "        self.neurons = [Neuron(nin) for _ in range(nout)]\n",
    "\n",
    "    def __call__(self, x):\n",
    "        outs = [n(x) for n in self.neurons]\n",
    "        return outs[0] if len(outs) == 1 else outs\n",
    "    \n",
    "class MLP:\n",
    "    # nouts - sizes of all neurons\n",
    "    def __init__(self, nin, nouts):\n",
    "        sz = [nin] + nouts\n",
    "        self.layers = [Layer(sz[i], sz[i + 1]) for i in range(len(nouts))]\n",
    "\n",
    "    def __call__(self, x):\n",
    "        for layer in self.layers:\n",
    "            x = layer(x)\n",
    "        return x\n",
    "\n",
    "    \n",
    "# x = [2.0, 3.0]\n",
    "# n = Layer(2,4)\n",
    "# n(x)\n",
    "    \n",
    "x = [2.0, 3.0, -1.0]\n",
    "# 3 inputs 2 \n",
    "n = MLP(3, [4, 4, 1])\n",
    "n(x)\n"
   ]
  },
  {
   "cell_type": "code",
   "execution_count": 26,
   "metadata": {},
   "outputs": [
    {
     "data": {
      "text/plain": [
       "[Value(data=-0.3349112674989521),\n",
       " Value(data=-0.21204881202701248),\n",
       " Value(data=-0.27871137509053256),\n",
       " Value(data=-0.10540402549452382)]"
      ]
     },
     "execution_count": 26,
     "metadata": {},
     "output_type": "execute_result"
    }
   ],
   "source": [
    "xs = [\n",
    "    [2.0, 3.0, -1.0],\n",
    "    [3.0, -1.0, 0.5],\n",
    "    [0.5, 1.0, 1.0],\n",
    "    [1.0, 1.0, -1.0]\n",
    "]\n",
    "\n",
    "ys = [1.0, -1.0, -1.0, 1.0] #desired target\n",
    "ypred = [n(x) for x in xs]\n",
    "ypred\n"
   ]
  },
  {
   "cell_type": "code",
   "execution_count": null,
   "metadata": {},
   "outputs": [],
   "source": [
    "loss = sum((yout - ygt)**2 for ygt, yout in zip(ys, ypred))\n",
    "loss"
   ]
  },
  {
   "cell_type": "code",
   "execution_count": null,
   "metadata": {},
   "outputs": [],
   "source": [
    "loss.backward()"
   ]
  },
  {
   "cell_type": "code",
   "execution_count": null,
   "metadata": {},
   "outputs": [],
   "source": []
  },
  {
   "cell_type": "code",
   "execution_count": null,
   "metadata": {},
   "outputs": [],
   "source": []
  },
  {
   "cell_type": "code",
   "execution_count": 28,
   "metadata": {},
   "outputs": [],
   "source": [
    "from micrograd.engine import Value\n",
    "from micrograd.nn import Neuron, Layer, MLP"
   ]
  },
  {
   "cell_type": "code",
   "execution_count": 29,
   "metadata": {},
   "outputs": [],
   "source": [
    "np.random.seed(1337)\n",
    "random.seed(1337)"
   ]
  },
  {
   "cell_type": "code",
   "execution_count": 31,
   "metadata": {},
   "outputs": [
    {
     "data": {
      "text/plain": [
       "<matplotlib.collections.PathCollection at 0x2a7cc0770>"
      ]
     },
     "execution_count": 31,
     "metadata": {},
     "output_type": "execute_result"
    },
    {
     "data": {
      "image/png": "[encoded data removed]",
      "text/plain": [
       "<Figure size 500x500 with 1 Axes>"
      ]
     },
     "metadata": {},
     "output_type": "display_data"
    }
   ],
   "source": [
    "# make up a dataset\n",
    "\n",
    "from sklearn.datasets import make_moons, make_blobs\n",
    "X, y = make_moons(n_samples=100, noise=0.1)\n",
    "\n",
    "y = y*2 - 1 # make y be -1 or 1\n",
    "# visualize in 2D\n",
    "plt.figure(figsize=(5,5))\n",
    "plt.scatter(X[:,0], X[:,1], c=y, s=20, cmap='jet')"
   ]
  },
  {
   "cell_type": "code",
   "execution_count": 32,
   "metadata": {},
   "outputs": [
    {
     "name": "stdout",
     "output_type": "stream",
     "text": [
      "MLP of [Layer of [ReLUNeuron(2), ReLUNeuron(2), ReLUNeuron(2), ReLUNeuron(2), ReLUNeuron(2), ReLUNeuron(2), ReLUNeuron(2), ReLUNeuron(2), ReLUNeuron(2), ReLUNeuron(2), ReLUNeuron(2), ReLUNeuron(2), ReLUNeuron(2), ReLUNeuron(2), ReLUNeuron(2), ReLUNeuron(2)], Layer of [ReLUNeuron(16), ReLUNeuron(16), ReLUNeuron(16), ReLUNeuron(16), ReLUNeuron(16), ReLUNeuron(16), ReLUNeuron(16), ReLUNeuron(16), ReLUNeuron(16), ReLUNeuron(16), ReLUNeuron(16), ReLUNeuron(16), ReLUNeuron(16), ReLUNeuron(16), ReLUNeuron(16), ReLUNeuron(16)], Layer of [LinearNeuron(16)]]\n",
      "number of parameters 337\n"
     ]
    }
   ],
   "source": [
    "# initialize a model \n",
    "model = MLP(2, [16, 16, 1]) # 2-layer neural network\n",
    "print(model)\n",
    "print(\"number of parameters\", len(model.parameters()))"
   ]
  },
  {
   "cell_type": "code",
   "execution_count": 33,
   "metadata": {},
   "outputs": [
    {
     "name": "stdout",
     "output_type": "stream",
     "text": [
      "Value(data=0.8958441028683222, grad=0) 0.5\n"
     ]
    }
   ],
   "source": [
    "# loss function\n",
    "def loss(batch_size=None):\n",
    "    \n",
    "    # inline DataLoader :)\n",
    "    if batch_size is None:\n",
    "        Xb, yb = X, y\n",
    "    else:\n",
    "        ri = np.random.permutation(X.shape[0])[:batch_size]\n",
    "        Xb, yb = X[ri], y[ri]\n",
    "    inputs = [list(map(Value, xrow)) for xrow in Xb]\n",
    "    \n",
    "    # forward the model to get scores\n",
    "    scores = list(map(model, inputs))\n",
    "    \n",
    "    # svm \"max-margin\" loss\n",
    "    losses = [(1 + -yi*scorei).relu() for yi, scorei in zip(yb, scores)]\n",
    "    data_loss = sum(losses) * (1.0 / len(losses))\n",
    "    # L2 regularization\n",
    "    alpha = 1e-4\n",
    "    reg_loss = alpha * sum((p*p for p in model.parameters()))\n",
    "    total_loss = data_loss + reg_loss\n",
    "    \n",
    "    # also get accuracy\n",
    "    accuracy = [(yi > 0) == (scorei.data > 0) for yi, scorei in zip(yb, scores)]\n",
    "    return total_loss, sum(accuracy) / len(accuracy)\n",
    "\n",
    "total_loss, acc = loss()\n",
    "print(total_loss, acc)"
   ]
  },
  {
   "cell_type": "code",
   "execution_count": null,
   "metadata": {},
   "outputs": [
    {
     "name": "stdout",
     "output_type": "stream",
     "text": [
      "step 0 loss 0.8958441028683222, accuracy 50.0%\n",
      "step 1 loss 1.7235905336972022, accuracy 81.0%\n",
      "step 2 loss 0.7429006313851131, accuracy 77.0%\n",
      "step 3 loss 0.7705641260584198, accuracy 82.0%\n",
      "step 4 loss 0.3692793385976538, accuracy 84.0%\n",
      "step 5 loss 0.313545481918522, accuracy 86.0%\n",
      "step 6 loss 0.2814234349772435, accuracy 89.0%\n",
      "step 7 loss 0.26888733313983904, accuracy 91.0%\n",
      "step 8 loss 0.2567147286057417, accuracy 91.0%\n",
      "step 9 loss 0.2704862551637922, accuracy 91.0%\n",
      "step 10 loss 0.24507023853658053, accuracy 91.0%\n",
      "step 11 loss 0.2509905529791503, accuracy 92.0%\n",
      "step 12 loss 0.21560951851922952, accuracy 91.0%\n",
      "step 13 loss 0.23090378446402726, accuracy 93.0%\n",
      "step 14 loss 0.20152151227899445, accuracy 92.0%\n",
      "step 15 loss 0.22574506279282217, accuracy 93.0%\n",
      "step 16 loss 0.19447987596204114, accuracy 92.0%\n",
      "step 17 loss 0.21089496199246363, accuracy 93.0%\n",
      "step 18 loss 0.159830773563036, accuracy 94.0%\n",
      "step 19 loss 0.1845374874688392, accuracy 93.0%\n",
      "step 20 loss 0.18977522856087634, accuracy 91.0%\n",
      "step 21 loss 0.19072704042579647, accuracy 93.0%\n",
      "step 22 loss 0.11733695088756485, accuracy 97.0%\n",
      "step 23 loss 0.12173524408232454, accuracy 95.0%\n",
      "step 24 loss 0.1261571261277045, accuracy 95.0%\n",
      "step 25 loss 0.16049097780801674, accuracy 95.0%\n",
      "step 26 loss 0.18747197705245805, accuracy 92.0%\n",
      "step 27 loss 0.16741837891059408, accuracy 95.0%\n",
      "step 28 loss 0.09586583491455399, accuracy 97.0%\n",
      "step 29 loss 0.0877878370742091, accuracy 96.0%\n",
      "step 30 loss 0.11731297569011848, accuracy 95.0%\n",
      "step 31 loss 0.09340146460619836, accuracy 97.0%\n",
      "step 32 loss 0.12454454903103446, accuracy 95.0%\n",
      "step 33 loss 0.07984002652777272, accuracy 97.0%\n",
      "step 34 loss 0.07727519232921673, accuracy 97.0%\n",
      "step 35 loss 0.07661250143094483, accuracy 98.0%\n",
      "step 36 loss 0.10610492379198365, accuracy 96.0%\n",
      "step 37 loss 0.09062808429265976, accuracy 99.0%\n",
      "step 38 loss 0.10671887043036932, accuracy 95.0%\n",
      "step 39 loss 0.05225659921975849, accuracy 98.0%\n",
      "step 40 loss 0.06016009895234464, accuracy 100.0%\n",
      "step 41 loss 0.08596724533333942, accuracy 96.0%\n",
      "step 42 loss 0.051121079431796, accuracy 99.0%\n",
      "step 43 loss 0.052401424016428284, accuracy 97.0%\n",
      "step 44 loss 0.045306841790015734, accuracy 100.0%\n",
      "step 45 loss 0.07211073370655095, accuracy 97.0%\n",
      "step 46 loss 0.03334238651310234, accuracy 99.0%\n",
      "step 47 loss 0.03143222795751122, accuracy 100.0%\n",
      "step 48 loss 0.03658536747111507, accuracy 99.0%\n",
      "step 49 loss 0.04829139382390309, accuracy 99.0%\n",
      "step 50 loss 0.09875114765619622, accuracy 96.0%\n",
      "step 51 loss 0.05449063965875453, accuracy 99.0%\n",
      "step 52 loss 0.03392679435708309, accuracy 100.0%\n",
      "step 53 loss 0.05261517263568441, accuracy 97.0%\n",
      "step 54 loss 0.03250295251424923, accuracy 99.0%\n",
      "step 55 loss 0.02888327387207822, accuracy 100.0%\n",
      "step 56 loss 0.04139151104027239, accuracy 98.0%\n",
      "step 57 loss 0.018987407426128502, accuracy 100.0%\n",
      "step 58 loss 0.0252383352388374, accuracy 100.0%\n",
      "step 59 loss 0.02079656521341895, accuracy 100.0%\n",
      "step 60 loss 0.0325971115781023, accuracy 99.0%\n",
      "step 61 loss 0.017863351693480307, accuracy 100.0%\n",
      "step 62 loss 0.023008717832211683, accuracy 100.0%\n",
      "step 63 loss 0.022079325463581503, accuracy 100.0%\n",
      "step 64 loss 0.029432917853529684, accuracy 99.0%\n",
      "step 65 loss 0.01625151464409193, accuracy 100.0%\n",
      "step 66 loss 0.02846853448326446, accuracy 99.0%\n",
      "step 67 loss 0.013994365546208731, accuracy 100.0%\n",
      "step 68 loss 0.015552344843651405, accuracy 100.0%\n",
      "step 69 loss 0.0338911994616017, accuracy 99.0%\n",
      "step 70 loss 0.014229870065926908, accuracy 100.0%\n",
      "step 71 loss 0.013255281583285504, accuracy 100.0%\n",
      "step 72 loss 0.012300277590022063, accuracy 100.0%\n",
      "step 73 loss 0.012676052498355976, accuracy 100.0%\n",
      "step 74 loss 0.020593811955954763, accuracy 100.0%\n",
      "step 75 loss 0.011845398205364453, accuracy 100.0%\n",
      "step 76 loss 0.016012697472883086, accuracy 100.0%\n",
      "step 77 loss 0.025458360239222128, accuracy 100.0%\n",
      "step 78 loss 0.014382930289661911, accuracy 100.0%\n",
      "step 79 loss 0.011698962425817985, accuracy 100.0%\n",
      "step 80 loss 0.012318500800515763, accuracy 100.0%\n",
      "step 81 loss 0.014121117031464233, accuracy 100.0%\n",
      "step 82 loss 0.011664591962446225, accuracy 100.0%\n",
      "step 83 loss 0.011589314549188726, accuracy 100.0%\n",
      "step 84 loss 0.010990299347735226, accuracy 100.0%\n",
      "step 85 loss 0.01098922672069161, accuracy 100.0%\n",
      "step 86 loss 0.010988193757655071, accuracy 100.0%\n",
      "step 87 loss 0.010987200447388707, accuracy 100.0%\n",
      "step 88 loss 0.010986246779084925, accuracy 100.0%\n",
      "step 89 loss 0.010985332742365272, accuracy 100.0%\n",
      "step 90 loss 0.010984458327280174, accuracy 100.0%\n",
      "step 91 loss 0.010983623524308862, accuracy 100.0%\n",
      "step 92 loss 0.010982828324359073, accuracy 100.0%\n",
      "step 93 loss 0.010982072718767003, accuracy 100.0%\n",
      "step 94 loss 0.010981356699297042, accuracy 100.0%\n",
      "step 95 loss 0.010980680258141723, accuracy 100.0%\n",
      "step 96 loss 0.010980043387921506, accuracy 100.0%\n",
      "step 97 loss 0.010979446081684675, accuracy 100.0%\n",
      "step 98 loss 0.010978888332907229, accuracy 100.0%\n",
      "step 99 loss 0.010978370135492717, accuracy 100.0%\n"
     ]
    }
   ],
   "source": [
    "# optimization\n",
    "for k in range(100):\n",
    "    \n",
    "    # forward\n",
    "    total_loss, acc = loss()\n",
    "    \n",
    "    # backward\n",
    "    model.zero_grad()\n",
    "    total_loss.backward()\n",
    "    \n",
    "    # update (sgd)\n",
    "    learning_rate = 1.0 - 0.9*k/100\n",
    "    for p in model.parameters():\n",
    "        p.data -= learning_rate * p.grad\n",
    "    \n",
    "    if k % 1 == 0:\n",
    "        print(f\"step {k} loss {total_loss.data}, accuracy {acc*100}%\")\n"
   ]
  },
  {
   "cell_type": "code",
   "execution_count": 34,
   "metadata": {},
   "outputs": [
    {
     "data": {
      "text/plain": [
       "(-1.548639298268643, 1.951360701731357)"
      ]
     },
     "execution_count": 34,
     "metadata": {},
     "output_type": "execute_result"
    },
    {
     "data": {
      "image/png": "[encoded data removed]",
      "text/plain": [
       "<Figure size 640x480 with 1 Axes>"
      ]
     },
     "metadata": {},
     "output_type": "display_data"
    }
   ],
   "source": [
    "# visualize decision boundary\n",
    "\n",
    "h = 0.25\n",
    "x_min, x_max = X[:, 0].min() - 1, X[:, 0].max() + 1\n",
    "y_min, y_max = X[:, 1].min() - 1, X[:, 1].max() + 1\n",
    "xx, yy = np.meshgrid(np.arange(x_min, x_max, h),\n",
    "                     np.arange(y_min, y_max, h))\n",
    "Xmesh = np.c_[xx.ravel(), yy.ravel()]\n",
    "inputs = [list(map(Value, xrow)) for xrow in Xmesh]\n",
    "scores = list(map(model, inputs))\n",
    "Z = np.array([s.data > 0 for s in scores])\n",
    "Z = Z.reshape(xx.shape)\n",
    "\n",
    "fig = plt.figure()\n",
    "plt.contourf(xx, yy, Z, cmap=plt.cm.Spectral, alpha=0.8)\n",
    "plt.scatter(X[:, 0], X[:, 1], c=y, s=40, cmap=plt.cm.Spectral)\n",
    "plt.xlim(xx.min(), xx.max())\n",
    "plt.ylim(yy.min(), yy.max())\n"
   ]
  },
  {
   "cell_type": "code",
   "execution_count": null,
   "metadata": {},
   "outputs": [],
   "source": []
  }
 ],
 "metadata": {
  "kernelspec": {
   "display_name": "Python 3 (ipykernel)",
   "language": "python",
   "name": "python3"
  },
  "language_info": {
   "codemirror_mode": {
    "name": "ipython",
    "version": 3
   },
   "file_extension": ".py",
   "mimetype": "text/x-python",
   "name": "python",
   "nbconvert_exporter": "python",
   "pygments_lexer": "ipython3",
   "version": "3.undefined.undefined"
  }
 },
 "nbformat": 4,
 "nbformat_minor": 4
}
